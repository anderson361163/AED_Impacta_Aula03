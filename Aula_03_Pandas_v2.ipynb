{
  "cells": [
    {
      "cell_type": "markdown",
      "metadata": {
        "id": "view-in-github",
        "colab_type": "text"
      },
      "source": [
        "<a href=\"https://colab.research.google.com/github/anderson361163/AED_Impacta_Aula03/blob/main/Aula_03_Pandas_v2.ipynb\" target=\"_parent\"><img src=\"https://colab.research.google.com/assets/colab-badge.svg\" alt=\"Open In Colab\"/></a>"
      ]
    },
    {
      "cell_type": "markdown",
      "metadata": {
        "id": "ZWyt3W87gFZx"
      },
      "source": [
        "<h1> <font color=\"Blue\"> Aula 03 Pandas"
      ]
    },
    {
      "cell_type": "markdown",
      "source": [
        "# Nova seção"
      ],
      "metadata": {
        "id": "WV6hJ6kYPgPl"
      }
    },
    {
      "cell_type": "markdown",
      "metadata": {
        "id": "i-v-px2mgFZ1"
      },
      "source": [
        "<p>\n",
        "    O Pandas é a principal e mais completa biblioteca Python  que fornece ferramentas de análise de dados e estruturas de dados de alta performance e fáceis de usar.\n",
        "</p>\n",
        "\n",
        "<p>\n",
        "    Em particular, oferece estruturas e operações para manipular tabelas numéricas e séries temporais.\n",
        "</p>\n",
        "\n",
        "<p>\n",
        "    O objeto usado pela biblioteca para manipulação de dados é o \"DataFrame“, o qual possui indexação integrada.\n",
        "\n",
        "</p>\n",
        "\n",
        "---"
      ]
    },
    {
      "cell_type": "markdown",
      "metadata": {
        "id": "KYPbDtDrgFZ2"
      },
      "source": [
        "<h3> Instalação </h3>\n",
        "\n",
        "Se estiver rodando o python a partir da instalação básica é necessário a instalação da biblioteca através do comando no shell:\n",
        "\n",
        "<i>pip install pandas\n",
        "\n",
        "conda install pandas</i>\n",
        "\n",
        "---\n",
        "\n",
        "<b>INSTALAÇÃO:</b> https://pandas.pydata.org/docs/getting_started/install.html\n",
        "\n",
        "<b>DOCUMENTAÇÃO:</b> https://pandas.pydata.org/docs/"
      ]
    },
    {
      "cell_type": "code",
      "execution_count": null,
      "metadata": {
        "id": "xu5vUwXLgFZ2"
      },
      "outputs": [],
      "source": [
        "import pandas as pd\n",
        "import numpy as np"
      ]
    },
    {
      "cell_type": "markdown",
      "metadata": {
        "id": "URVJynROgFZ4"
      },
      "source": [
        "Por padrão o pandas lista 10 linhas do dataset, entretanto podemos alterar esses valores"
      ]
    },
    {
      "cell_type": "code",
      "execution_count": null,
      "metadata": {
        "id": "AQNsfq1UgFZ4"
      },
      "outputs": [],
      "source": [
        "pd.set_option('display.max_rows', 100)"
      ]
    },
    {
      "cell_type": "markdown",
      "metadata": {
        "id": "zsOUi6PNgFZ5"
      },
      "source": [
        "<h2>Lendo Dados</h2>\n",
        "\n",
        "<p>Read</p>"
      ]
    },
    {
      "cell_type": "code",
      "execution_count": null,
      "metadata": {
        "colab": {
          "base_uri": "https://localhost:8080/",
          "height": 832
        },
        "id": "959qaTFggFZ6",
        "outputId": "077038a0-b25e-40d8-c227-d2a39d1e5116"
      },
      "outputs": [
        {
          "output_type": "execute_result",
          "data": {
            "text/html": [
              "\n",
              "  <div id=\"df-0f1ec5c4-29a5-45c1-b515-fd1b25e5f135\">\n",
              "    <div class=\"colab-df-container\">\n",
              "      <div>\n",
              "<style scoped>\n",
              "    .dataframe tbody tr th:only-of-type {\n",
              "        vertical-align: middle;\n",
              "    }\n",
              "\n",
              "    .dataframe tbody tr th {\n",
              "        vertical-align: top;\n",
              "    }\n",
              "\n",
              "    .dataframe thead th {\n",
              "        text-align: right;\n",
              "    }\n",
              "</style>\n",
              "<table border=\"1\" class=\"dataframe\">\n",
              "  <thead>\n",
              "    <tr style=\"text-align: right;\">\n",
              "      <th></th>\n",
              "      <th>Nome</th>\n",
              "      <th>Motor</th>\n",
              "      <th>Ano</th>\n",
              "      <th>Quilometragem</th>\n",
              "      <th>Zero_km</th>\n",
              "      <th>Acessórios</th>\n",
              "      <th>Valor</th>\n",
              "    </tr>\n",
              "  </thead>\n",
              "  <tbody>\n",
              "    <tr>\n",
              "      <th>0</th>\n",
              "      <td>Jetta Variant</td>\n",
              "      <td>Motor 4.0 Turbo</td>\n",
              "      <td>2003</td>\n",
              "      <td>44410.0</td>\n",
              "      <td>False</td>\n",
              "      <td>['Rodas de liga', 'Travas elétricas', 'Piloto ...</td>\n",
              "      <td>88078.64</td>\n",
              "    </tr>\n",
              "    <tr>\n",
              "      <th>1</th>\n",
              "      <td>Passat</td>\n",
              "      <td>Motor Diesel</td>\n",
              "      <td>1991</td>\n",
              "      <td>5712.0</td>\n",
              "      <td>False</td>\n",
              "      <td>['Central multimídia', 'Teto panorâmico', 'Fre...</td>\n",
              "      <td>106161.94</td>\n",
              "    </tr>\n",
              "    <tr>\n",
              "      <th>2</th>\n",
              "      <td>Crossfox</td>\n",
              "      <td>Motor Diesel V8</td>\n",
              "      <td>1990</td>\n",
              "      <td>37123.0</td>\n",
              "      <td>False</td>\n",
              "      <td>['Piloto automático', 'Controle de estabilidad...</td>\n",
              "      <td>72832.16</td>\n",
              "    </tr>\n",
              "    <tr>\n",
              "      <th>3</th>\n",
              "      <td>DS5</td>\n",
              "      <td>Motor 2.4 Turbo</td>\n",
              "      <td>2019</td>\n",
              "      <td>NaN</td>\n",
              "      <td>True</td>\n",
              "      <td>['Travas elétricas', '4 X 4', 'Vidros elétrico...</td>\n",
              "      <td>124549.07</td>\n",
              "    </tr>\n",
              "    <tr>\n",
              "      <th>4</th>\n",
              "      <td>Aston Martin DB4</td>\n",
              "      <td>Motor 2.4 Turbo</td>\n",
              "      <td>2006</td>\n",
              "      <td>25757.0</td>\n",
              "      <td>False</td>\n",
              "      <td>['Rodas de liga', '4 X 4', 'Central multimídia...</td>\n",
              "      <td>92612.10</td>\n",
              "    </tr>\n",
              "    <tr>\n",
              "      <th>...</th>\n",
              "      <td>...</td>\n",
              "      <td>...</td>\n",
              "      <td>...</td>\n",
              "      <td>...</td>\n",
              "      <td>...</td>\n",
              "      <td>...</td>\n",
              "      <td>...</td>\n",
              "    </tr>\n",
              "    <tr>\n",
              "      <th>253</th>\n",
              "      <td>Phantom 2013</td>\n",
              "      <td>Motor V8</td>\n",
              "      <td>2014</td>\n",
              "      <td>27505.0</td>\n",
              "      <td>False</td>\n",
              "      <td>['Controle de estabilidade', 'Piloto automátic...</td>\n",
              "      <td>51759.58</td>\n",
              "    </tr>\n",
              "    <tr>\n",
              "      <th>254</th>\n",
              "      <td>Cadillac Ciel concept</td>\n",
              "      <td>Motor V8</td>\n",
              "      <td>1991</td>\n",
              "      <td>29981.0</td>\n",
              "      <td>False</td>\n",
              "      <td>['Bancos de couro', 'Painel digital', 'Sensor ...</td>\n",
              "      <td>51667.06</td>\n",
              "    </tr>\n",
              "    <tr>\n",
              "      <th>255</th>\n",
              "      <td>Classe GLK</td>\n",
              "      <td>Motor 5.0 V8 Bi-Turbo</td>\n",
              "      <td>2002</td>\n",
              "      <td>52637.0</td>\n",
              "      <td>False</td>\n",
              "      <td>['Rodas de liga', 'Controle de tração', 'Câmbi...</td>\n",
              "      <td>68934.03</td>\n",
              "    </tr>\n",
              "    <tr>\n",
              "      <th>256</th>\n",
              "      <td>Aston Martin DB5</td>\n",
              "      <td>Motor Diesel</td>\n",
              "      <td>1996</td>\n",
              "      <td>7685.0</td>\n",
              "      <td>False</td>\n",
              "      <td>['Ar condicionado', '4 X 4', 'Câmbio automátic...</td>\n",
              "      <td>122110.90</td>\n",
              "    </tr>\n",
              "    <tr>\n",
              "      <th>257</th>\n",
              "      <td>Macan</td>\n",
              "      <td>Motor Diesel V6</td>\n",
              "      <td>1992</td>\n",
              "      <td>50188.0</td>\n",
              "      <td>False</td>\n",
              "      <td>['Central multimídia', 'Teto panorâmico', 'Vid...</td>\n",
              "      <td>90381.47</td>\n",
              "    </tr>\n",
              "  </tbody>\n",
              "</table>\n",
              "<p>258 rows × 7 columns</p>\n",
              "</div>\n",
              "      <button class=\"colab-df-convert\" onclick=\"convertToInteractive('df-0f1ec5c4-29a5-45c1-b515-fd1b25e5f135')\"\n",
              "              title=\"Convert this dataframe to an interactive table.\"\n",
              "              style=\"display:none;\">\n",
              "        \n",
              "  <svg xmlns=\"http://www.w3.org/2000/svg\" height=\"24px\"viewBox=\"0 0 24 24\"\n",
              "       width=\"24px\">\n",
              "    <path d=\"M0 0h24v24H0V0z\" fill=\"none\"/>\n",
              "    <path d=\"M18.56 5.44l.94 2.06.94-2.06 2.06-.94-2.06-.94-.94-2.06-.94 2.06-2.06.94zm-11 1L8.5 8.5l.94-2.06 2.06-.94-2.06-.94L8.5 2.5l-.94 2.06-2.06.94zm10 10l.94 2.06.94-2.06 2.06-.94-2.06-.94-.94-2.06-.94 2.06-2.06.94z\"/><path d=\"M17.41 7.96l-1.37-1.37c-.4-.4-.92-.59-1.43-.59-.52 0-1.04.2-1.43.59L10.3 9.45l-7.72 7.72c-.78.78-.78 2.05 0 2.83L4 21.41c.39.39.9.59 1.41.59.51 0 1.02-.2 1.41-.59l7.78-7.78 2.81-2.81c.8-.78.8-2.07 0-2.86zM5.41 20L4 18.59l7.72-7.72 1.47 1.35L5.41 20z\"/>\n",
              "  </svg>\n",
              "      </button>\n",
              "      \n",
              "  <style>\n",
              "    .colab-df-container {\n",
              "      display:flex;\n",
              "      flex-wrap:wrap;\n",
              "      gap: 12px;\n",
              "    }\n",
              "\n",
              "    .colab-df-convert {\n",
              "      background-color: #E8F0FE;\n",
              "      border: none;\n",
              "      border-radius: 50%;\n",
              "      cursor: pointer;\n",
              "      display: none;\n",
              "      fill: #1967D2;\n",
              "      height: 32px;\n",
              "      padding: 0 0 0 0;\n",
              "      width: 32px;\n",
              "    }\n",
              "\n",
              "    .colab-df-convert:hover {\n",
              "      background-color: #E2EBFA;\n",
              "      box-shadow: 0px 1px 2px rgba(60, 64, 67, 0.3), 0px 1px 3px 1px rgba(60, 64, 67, 0.15);\n",
              "      fill: #174EA6;\n",
              "    }\n",
              "\n",
              "    [theme=dark] .colab-df-convert {\n",
              "      background-color: #3B4455;\n",
              "      fill: #D2E3FC;\n",
              "    }\n",
              "\n",
              "    [theme=dark] .colab-df-convert:hover {\n",
              "      background-color: #434B5C;\n",
              "      box-shadow: 0px 1px 3px 1px rgba(0, 0, 0, 0.15);\n",
              "      filter: drop-shadow(0px 1px 2px rgba(0, 0, 0, 0.3));\n",
              "      fill: #FFFFFF;\n",
              "    }\n",
              "  </style>\n",
              "\n",
              "      <script>\n",
              "        const buttonEl =\n",
              "          document.querySelector('#df-0f1ec5c4-29a5-45c1-b515-fd1b25e5f135 button.colab-df-convert');\n",
              "        buttonEl.style.display =\n",
              "          google.colab.kernel.accessAllowed ? 'block' : 'none';\n",
              "\n",
              "        async function convertToInteractive(key) {\n",
              "          const element = document.querySelector('#df-0f1ec5c4-29a5-45c1-b515-fd1b25e5f135');\n",
              "          const dataTable =\n",
              "            await google.colab.kernel.invokeFunction('convertToInteractive',\n",
              "                                                     [key], {});\n",
              "          if (!dataTable) return;\n",
              "\n",
              "          const docLinkHtml = 'Like what you see? Visit the ' +\n",
              "            '<a target=\"_blank\" href=https://colab.research.google.com/notebooks/data_table.ipynb>data table notebook</a>'\n",
              "            + ' to learn more about interactive tables.';\n",
              "          element.innerHTML = '';\n",
              "          dataTable['output_type'] = 'display_data';\n",
              "          await google.colab.output.renderOutput(dataTable, element);\n",
              "          const docLink = document.createElement('div');\n",
              "          docLink.innerHTML = docLinkHtml;\n",
              "          element.appendChild(docLink);\n",
              "        }\n",
              "      </script>\n",
              "    </div>\n",
              "  </div>\n",
              "  "
            ],
            "text/plain": [
              "                      Nome                  Motor   Ano  Quilometragem  \\\n",
              "0            Jetta Variant        Motor 4.0 Turbo  2003        44410.0   \n",
              "1                   Passat           Motor Diesel  1991         5712.0   \n",
              "2                 Crossfox        Motor Diesel V8  1990        37123.0   \n",
              "3                      DS5        Motor 2.4 Turbo  2019            NaN   \n",
              "4         Aston Martin DB4        Motor 2.4 Turbo  2006        25757.0   \n",
              "..                     ...                    ...   ...            ...   \n",
              "253           Phantom 2013               Motor V8  2014        27505.0   \n",
              "254  Cadillac Ciel concept               Motor V8  1991        29981.0   \n",
              "255             Classe GLK  Motor 5.0 V8 Bi-Turbo  2002        52637.0   \n",
              "256       Aston Martin DB5           Motor Diesel  1996         7685.0   \n",
              "257                  Macan        Motor Diesel V6  1992        50188.0   \n",
              "\n",
              "     Zero_km                                         Acessórios      Valor  \n",
              "0      False  ['Rodas de liga', 'Travas elétricas', 'Piloto ...   88078.64  \n",
              "1      False  ['Central multimídia', 'Teto panorâmico', 'Fre...  106161.94  \n",
              "2      False  ['Piloto automático', 'Controle de estabilidad...   72832.16  \n",
              "3       True  ['Travas elétricas', '4 X 4', 'Vidros elétrico...  124549.07  \n",
              "4      False  ['Rodas de liga', '4 X 4', 'Central multimídia...   92612.10  \n",
              "..       ...                                                ...        ...  \n",
              "253    False  ['Controle de estabilidade', 'Piloto automátic...   51759.58  \n",
              "254    False  ['Bancos de couro', 'Painel digital', 'Sensor ...   51667.06  \n",
              "255    False  ['Rodas de liga', 'Controle de tração', 'Câmbi...   68934.03  \n",
              "256    False  ['Ar condicionado', '4 X 4', 'Câmbio automátic...  122110.90  \n",
              "257    False  ['Central multimídia', 'Teto panorâmico', 'Vid...   90381.47  \n",
              "\n",
              "[258 rows x 7 columns]"
            ]
          },
          "metadata": {},
          "execution_count": 9
        }
      ],
      "source": [
        "'''Tanto o delimiter quanto o sep possuem a mesma função, setar a forma de separação de dados \n",
        "entre colunas e suas respectivas linhas.\n",
        "'''\n",
        "\n",
        "df = pd.read_csv('Carros.csv', delimiter=';')\n",
        "#df = pd.read_csv('db.csv', sep=';')\n",
        "\n",
        "#Apresentando as 5 primeiras linhas do documento\n",
        "df"
      ]
    },
    {
      "cell_type": "markdown",
      "metadata": {
        "id": "XyMHcnlGgFZ7"
      },
      "source": [
        "<h2>Series</h2>\n",
        "\n",
        "Uma série fornece um Ndarray unidimensional com rótulos de eixo"
      ]
    },
    {
      "cell_type": "code",
      "execution_count": null,
      "metadata": {
        "colab": {
          "base_uri": "https://localhost:8080/"
        },
        "id": "MHNLmzclgFZ7",
        "outputId": "62ba8365-cb1a-449f-ce09-5ce71b1a3193"
      },
      "outputs": [
        {
          "output_type": "execute_result",
          "data": {
            "text/plain": [
              "A    15\n",
              "B     9\n",
              "C    48\n",
              "D    94\n",
              "E    74\n",
              "dtype: int64"
            ]
          },
          "metadata": {},
          "execution_count": 10
        }
      ],
      "source": [
        "serie = pd.Series(np.random.randint(0, 100, 5), index=['A', 'B', 'C', 'D', 'E'])\n",
        "serie"
      ]
    },
    {
      "cell_type": "markdown",
      "metadata": {
        "id": "LaEOhXcJgFZ8"
      },
      "source": [
        "<h3>DataFrame</h3>\n",
        "\n",
        "<p>Pandas permite a importação de diferentes formatos de arquivo, como csv e excel, para a leitura em dataframes. </p>\n",
        "\n",
        "<p>Podemos criar DataFrame a partir de arquivos externos, tuplas, listas e dicionarios do python</p>"
      ]
    },
    {
      "cell_type": "code",
      "execution_count": null,
      "metadata": {
        "id": "r7hN_vQfgFZ8"
      },
      "outputs": [],
      "source": [
        "#A partir de listas\n",
        "df1 = pd.DataFrame([[15,12], [44,78],[15,88]], columns=['x','y'])\n",
        "df1"
      ]
    },
    {
      "cell_type": "code",
      "execution_count": null,
      "metadata": {
        "id": "rQ3hfA1cgFZ9"
      },
      "outputs": [],
      "source": [
        "df2 = pd.DataFrame(((10,15),(25,88),(425,320)), columns=['x','y'])\n",
        "df2"
      ]
    },
    {
      "cell_type": "code",
      "execution_count": null,
      "metadata": {
        "id": "gQMsSz8-gFZ9"
      },
      "outputs": [],
      "source": [
        "dicionario = {'Coluna1':[15,45,85,458], 'Coluna2':[254,878,365,9801]}\n",
        "dicionario"
      ]
    },
    {
      "cell_type": "code",
      "execution_count": null,
      "metadata": {
        "id": "cij1A2u3gFZ-"
      },
      "outputs": [],
      "source": [
        "df3 = pd.DataFrame(dicionario)\n",
        "df3"
      ]
    },
    {
      "cell_type": "markdown",
      "metadata": {
        "id": "bTgXSvzpgFZ-"
      },
      "source": [
        "<h2>Validando colunas e seus tipos de dados</h2>"
      ]
    },
    {
      "cell_type": "code",
      "execution_count": null,
      "metadata": {
        "id": "ykzECQImgFZ-"
      },
      "outputs": [],
      "source": [
        "df.dtypes"
      ]
    },
    {
      "cell_type": "code",
      "execution_count": null,
      "metadata": {
        "id": "UsSlgWJygFZ-"
      },
      "outputs": [],
      "source": [
        "df.info()"
      ]
    },
    {
      "cell_type": "code",
      "execution_count": null,
      "metadata": {
        "id": "1WiGnQhQgFZ_"
      },
      "outputs": [],
      "source": [
        "df.head()"
      ]
    },
    {
      "cell_type": "markdown",
      "metadata": {
        "id": "WUvLXepggFZ_"
      },
      "source": [
        "<h2>Filtrando dados</h2>\n",
        "\n",
        "<p>\n",
        "A seleção de colunas no Pandas funciona da mesma forma que no NumPy e no Python, porém no Pandas é necessário especificar o nome da coluna.\n",
        "</p>"
      ]
    },
    {
      "cell_type": "code",
      "execution_count": null,
      "metadata": {
        "id": "97hkqPuDgFZ_"
      },
      "outputs": [],
      "source": [
        "#Quando selecionamos somente uma coluna o tipo de retorno é uma Serie do Pandas\n",
        "df['Nome']"
      ]
    },
    {
      "cell_type": "code",
      "execution_count": null,
      "metadata": {
        "id": "9lKegXQzgFaA"
      },
      "outputs": [],
      "source": [
        "df[['Nome', 'Ano', 'Valor']]"
      ]
    },
    {
      "cell_type": "markdown",
      "metadata": {
        "id": "Unz2a7ECgFaA"
      },
      "source": [
        "<h2>Dataframe.iloc</h2>\n",
        "\n",
        "Podemos localizar uma linha em especifica no dataframe através de seu índice, com a função iloc"
      ]
    },
    {
      "cell_type": "code",
      "execution_count": null,
      "metadata": {
        "id": "DgMat1GvgFaA"
      },
      "outputs": [],
      "source": [
        "df"
      ]
    },
    {
      "cell_type": "code",
      "execution_count": null,
      "metadata": {
        "id": "D81bh8eEgFaB"
      },
      "outputs": [],
      "source": [
        "df.iloc[3]"
      ]
    },
    {
      "cell_type": "markdown",
      "metadata": {
        "id": "9teODeTvgFaB"
      },
      "source": [
        "<h2>Dataframe.loc</h2>\n",
        "\n",
        "Quando os índices estão especificados através de texto podemos localizar esse índice através de seu nome com a função loc."
      ]
    },
    {
      "cell_type": "code",
      "execution_count": null,
      "metadata": {
        "id": "q7uoTwyngFaB"
      },
      "outputs": [],
      "source": [
        "df_copy = df.copy()"
      ]
    },
    {
      "cell_type": "code",
      "execution_count": null,
      "metadata": {
        "id": "NvtdDW71gFaB"
      },
      "outputs": [],
      "source": [
        "df_copy.index = df_copy['Nome']\n",
        "df_copy.head()"
      ]
    },
    {
      "cell_type": "code",
      "execution_count": null,
      "metadata": {
        "id": "8OpQ4WZCgFaB",
        "outputId": "40632894-3042-4306-8e0d-a50e88274674"
      },
      "outputs": [
        {
          "data": {
            "text/plain": [
              "Nome                                                           DS5\n",
              "Motor                                              Motor 2.4 Turbo\n",
              "Ano                                                           2019\n",
              "Quilometragem                                                  NaN\n",
              "Zero_km                                                       True\n",
              "Acessórios       ['Travas elétricas', '4 X 4', 'Vidros elétrico...\n",
              "Valor                                                    124549.07\n",
              "Name: DS5, dtype: object"
            ]
          },
          "execution_count": 40,
          "metadata": {},
          "output_type": "execute_result"
        }
      ],
      "source": [
        "df_copy.loc['DS5']"
      ]
    },
    {
      "cell_type": "markdown",
      "metadata": {
        "id": "6Ue0RiLVgFaC"
      },
      "source": [
        "<h2>Seleção de linhas e colunas</h2>"
      ]
    },
    {
      "cell_type": "code",
      "execution_count": null,
      "metadata": {
        "id": "E5hQJ_GLgFaC",
        "outputId": "bbd4ddb7-db65-46b0-85e3-dd9f2c740c15"
      },
      "outputs": [
        {
          "data": {
            "text/plain": [
              "Nome            Crossfox\n",
              "Motor    Motor Diesel V8\n",
              "Ano                 1990\n",
              "Name: Crossfox, dtype: object"
            ]
          },
          "execution_count": 42,
          "metadata": {},
          "output_type": "execute_result"
        }
      ],
      "source": [
        "df_copy.loc['Crossfox'][0:3]"
      ]
    },
    {
      "cell_type": "code",
      "execution_count": null,
      "metadata": {
        "id": "UKAw-5aSgFaD",
        "outputId": "44a6afca-3d0a-44ad-df41-72173f5f6ec0"
      },
      "outputs": [
        {
          "data": {
            "text/html": [
              "<div>\n",
              "<style scoped>\n",
              "    .dataframe tbody tr th:only-of-type {\n",
              "        vertical-align: middle;\n",
              "    }\n",
              "\n",
              "    .dataframe tbody tr th {\n",
              "        vertical-align: top;\n",
              "    }\n",
              "\n",
              "    .dataframe thead th {\n",
              "        text-align: right;\n",
              "    }\n",
              "</style>\n",
              "<table border=\"1\" class=\"dataframe\">\n",
              "  <thead>\n",
              "    <tr style=\"text-align: right;\">\n",
              "      <th></th>\n",
              "      <th>Nome</th>\n",
              "      <th>Ano</th>\n",
              "    </tr>\n",
              "  </thead>\n",
              "  <tbody>\n",
              "    <tr>\n",
              "      <th>1</th>\n",
              "      <td>Passat</td>\n",
              "      <td>1991</td>\n",
              "    </tr>\n",
              "    <tr>\n",
              "      <th>3</th>\n",
              "      <td>DS5</td>\n",
              "      <td>2019</td>\n",
              "    </tr>\n",
              "    <tr>\n",
              "      <th>5</th>\n",
              "      <td>Palio Weekend</td>\n",
              "      <td>2012</td>\n",
              "    </tr>\n",
              "  </tbody>\n",
              "</table>\n",
              "</div>"
            ],
            "text/plain": [
              "            Nome   Ano\n",
              "1         Passat  1991\n",
              "3            DS5  2019\n",
              "5  Palio Weekend  2012"
            ]
          },
          "execution_count": 43,
          "metadata": {},
          "output_type": "execute_result"
        }
      ],
      "source": [
        "df.loc[1:5:2, ['Nome', 'Ano']]"
      ]
    },
    {
      "cell_type": "markdown",
      "metadata": {
        "id": "SQ7LMTBzgFaD"
      },
      "source": [
        "Podemos filtrar somente as linhas que tenha veículos com o nome de Crossfox por exemplo. Como o nosso dataframe só possui um veículo com esse nome a busca só nos retorna 1 registro"
      ]
    },
    {
      "cell_type": "code",
      "execution_count": null,
      "metadata": {
        "id": "C0bNQ5W3gFaD",
        "outputId": "637fa657-7334-4fdd-b1d5-2d770a759c77"
      },
      "outputs": [
        {
          "data": {
            "text/html": [
              "<div>\n",
              "<style scoped>\n",
              "    .dataframe tbody tr th:only-of-type {\n",
              "        vertical-align: middle;\n",
              "    }\n",
              "\n",
              "    .dataframe tbody tr th {\n",
              "        vertical-align: top;\n",
              "    }\n",
              "\n",
              "    .dataframe thead th {\n",
              "        text-align: right;\n",
              "    }\n",
              "</style>\n",
              "<table border=\"1\" class=\"dataframe\">\n",
              "  <thead>\n",
              "    <tr style=\"text-align: right;\">\n",
              "      <th></th>\n",
              "      <th>Nome</th>\n",
              "      <th>Motor</th>\n",
              "      <th>Ano</th>\n",
              "      <th>Quilometragem</th>\n",
              "      <th>Zero_km</th>\n",
              "      <th>Acessórios</th>\n",
              "      <th>Valor</th>\n",
              "    </tr>\n",
              "  </thead>\n",
              "  <tbody>\n",
              "    <tr>\n",
              "      <th>2</th>\n",
              "      <td>Crossfox</td>\n",
              "      <td>Motor Diesel V8</td>\n",
              "      <td>1990</td>\n",
              "      <td>37123.0</td>\n",
              "      <td>False</td>\n",
              "      <td>['Piloto automático', 'Controle de estabilidad...</td>\n",
              "      <td>72832.16</td>\n",
              "    </tr>\n",
              "  </tbody>\n",
              "</table>\n",
              "</div>"
            ],
            "text/plain": [
              "       Nome            Motor   Ano  Quilometragem  Zero_km  \\\n",
              "2  Crossfox  Motor Diesel V8  1990        37123.0    False   \n",
              "\n",
              "                                          Acessórios     Valor  \n",
              "2  ['Piloto automático', 'Controle de estabilidad...  72832.16  "
            ]
          },
          "execution_count": 44,
          "metadata": {},
          "output_type": "execute_result"
        }
      ],
      "source": [
        "df[df['Nome'] == 'Crossfox']"
      ]
    },
    {
      "cell_type": "markdown",
      "metadata": {
        "id": "d8kU7XvVgFaD"
      },
      "source": [
        "<h2>REMOÇÃO DE LINHAS E COLUNAS</h2>\n",
        "\n",
        "<p>Podemos remover linhas e colunas de um dataframe. Para isso vamos copiar nosso dataframe original e deletar algumas informações a partir dele</p>"
      ]
    },
    {
      "cell_type": "code",
      "execution_count": null,
      "metadata": {
        "id": "l7OLO5EIgFaE"
      },
      "outputs": [],
      "source": [
        "df2 = df.copy()\n",
        "df2"
      ]
    },
    {
      "cell_type": "markdown",
      "metadata": {
        "id": "2RwEP-VSgFaE"
      },
      "source": [
        "<h3>Remoção pelo Indice"
      ]
    },
    {
      "cell_type": "code",
      "execution_count": null,
      "metadata": {
        "id": "OzGbNbi9gFaE"
      },
      "outputs": [],
      "source": [
        "df2.drop([1,3])"
      ]
    },
    {
      "cell_type": "markdown",
      "metadata": {
        "id": "ZX2cziLpgFaE"
      },
      "source": [
        "<h3>Remoção de uma coluna</h3>\n",
        "\n",
        "<p>Para remoção de uma coluna, temos que passar o parâmetro <b>axis=1</b></p>"
      ]
    },
    {
      "cell_type": "code",
      "execution_count": null,
      "metadata": {
        "id": "XMUFKvcGgFaF"
      },
      "outputs": [],
      "source": [
        "df2.drop('Zero_km', axis=1)"
      ]
    },
    {
      "cell_type": "markdown",
      "metadata": {
        "id": "NJJkbRQvgFaF"
      },
      "source": [
        "<h2>INCLUSÃO DE COLUNAS</h2>"
      ]
    },
    {
      "cell_type": "code",
      "execution_count": null,
      "metadata": {
        "id": "seDVRzvUgFaF"
      },
      "outputs": [],
      "source": [
        "df2['Zero_km'] = df['Zero_km']\n",
        "df2"
      ]
    },
    {
      "cell_type": "code",
      "execution_count": null,
      "metadata": {
        "id": "XXd-3jFegFaF"
      },
      "outputs": [],
      "source": [
        "df2['Quilometragem_media'] = df2['Quilometragem'] / (2022 - df2['Ano'])\n",
        "df2"
      ]
    },
    {
      "cell_type": "markdown",
      "metadata": {
        "id": "oMcVlgjygFaF"
      },
      "source": [
        "<h2>COLETANDO INFORMAÇÕES EM UM DATAFRAME</h2>\n",
        "\n",
        "<h3>Dataframe.shape</h3>\n",
        "\n",
        "<p>Retorna a quantidade de linhas e colunas do DataFrame</p>"
      ]
    },
    {
      "cell_type": "code",
      "execution_count": null,
      "metadata": {
        "id": "Xa2Lv3idgFaG"
      },
      "outputs": [],
      "source": [
        "df.shape"
      ]
    },
    {
      "cell_type": "markdown",
      "metadata": {
        "id": "clLe7ZudgFaG"
      },
      "source": [
        "<h3>Dataframe.index</h3>\n",
        "\n",
        "<p>Mostra os detalhes do index</p>"
      ]
    },
    {
      "cell_type": "code",
      "execution_count": null,
      "metadata": {
        "id": "MlwllNJ4gFaG"
      },
      "outputs": [],
      "source": [
        "df.index"
      ]
    },
    {
      "cell_type": "markdown",
      "metadata": {
        "id": "4oiaim_OgFaG"
      },
      "source": [
        "<h3>Dataframe.columns</h3>\n",
        "\n",
        "<p>Retorna uma lista com nome das colunas presentes no DataFrame</p>"
      ]
    },
    {
      "cell_type": "markdown",
      "metadata": {
        "id": "FG2tZ-qJgFaG"
      },
      "source": [
        "df.columns"
      ]
    },
    {
      "cell_type": "markdown",
      "metadata": {
        "id": "Cy4DfNRAgFaH"
      },
      "source": [
        "<h3>Dataframe.count()</h3>\n",
        "\n",
        "<p>Contagem de dados <b>não nulos<b></p>"
      ]
    },
    {
      "cell_type": "markdown",
      "metadata": {
        "id": "DHAL3nIzgFaH"
      },
      "source": [
        "df.count()"
      ]
    },
    {
      "cell_type": "markdown",
      "metadata": {
        "id": "eT5TXiImgFaH"
      },
      "source": [
        "<h3>Dataframe.sum()</h3>\n",
        "\n",
        "<p>Soma a quantidade de registros de uma certa coluna do dataframe</p>"
      ]
    },
    {
      "cell_type": "code",
      "execution_count": null,
      "metadata": {
        "id": "tgJrHqILgFaH"
      },
      "outputs": [],
      "source": [
        "df['Quilometragem'].sum()"
      ]
    },
    {
      "cell_type": "markdown",
      "metadata": {
        "id": "PNWJbcO5gFaH"
      },
      "source": [
        "<h3>Dataframe.min()</h3>\n",
        "\n",
        "<p>Trás o registro que possúi o menor valor da base</p>"
      ]
    },
    {
      "cell_type": "markdown",
      "metadata": {
        "id": "auBlKxBfgFaI"
      },
      "source": [
        "df.min()"
      ]
    },
    {
      "cell_type": "markdown",
      "metadata": {
        "id": "pP7JFYA6gFaI"
      },
      "source": [
        "<h3>Dataframe.max()</h3>\n",
        "\n",
        "<p>Trás o registro que possúi o maior valor da base</p>"
      ]
    },
    {
      "cell_type": "code",
      "execution_count": null,
      "metadata": {
        "id": "UKuMsVQLgFaI"
      },
      "outputs": [],
      "source": [
        "df.max()"
      ]
    },
    {
      "cell_type": "markdown",
      "metadata": {
        "id": "C82M0ErogFaI"
      },
      "source": [
        "<h3>Dataframe.mean()</h3>\n",
        "\n",
        "<p>Trás a média dos valores de uma determinada coluna</p>"
      ]
    },
    {
      "cell_type": "code",
      "execution_count": null,
      "metadata": {
        "id": "Rv6ArG82gFaJ"
      },
      "outputs": [],
      "source": [
        "df.mean()"
      ]
    },
    {
      "cell_type": "markdown",
      "metadata": {
        "id": "ct1WPMSRgFaJ"
      },
      "source": [
        "<h3>Dataframe.median()</h3>\n",
        "\n",
        "<p>Trás a mediana dos valores de uma determinada coluna</p>"
      ]
    },
    {
      "cell_type": "code",
      "execution_count": null,
      "metadata": {
        "id": "5v3zcVHugFaJ"
      },
      "outputs": [],
      "source": [
        "df.median()"
      ]
    },
    {
      "cell_type": "markdown",
      "metadata": {
        "id": "I9kjV6r4gFaJ"
      },
      "source": [
        "<h3>Dataframe.sort_values()</h3>\n",
        "\n",
        "<p>Ordena os valores de uma determinada coluna</p>"
      ]
    },
    {
      "cell_type": "code",
      "execution_count": null,
      "metadata": {
        "id": "8oJqMi4HgFaJ"
      },
      "outputs": [],
      "source": [
        "df['Nome'].sort_values()"
      ]
    },
    {
      "cell_type": "code",
      "execution_count": null,
      "metadata": {
        "id": "2GrshYFlgFaK"
      },
      "outputs": [],
      "source": [
        "df['Nome'].sort_values(ascending=False)"
      ]
    }
  ],
  "metadata": {
    "interpreter": {
      "hash": "b3ba2566441a7c06988d0923437866b63cedc61552a5af99d1f4fb67d367b25f"
    },
    "kernelspec": {
      "display_name": "Python 3.9.7 ('base')",
      "language": "python",
      "name": "python3"
    },
    "language_info": {
      "codemirror_mode": {
        "name": "ipython",
        "version": 3
      },
      "file_extension": ".py",
      "mimetype": "text/x-python",
      "name": "python",
      "nbconvert_exporter": "python",
      "pygments_lexer": "ipython3",
      "version": "3.9.7"
    },
    "orig_nbformat": 4,
    "colab": {
      "name": "Aula_03_Pandas_v2.ipynb",
      "provenance": [],
      "collapsed_sections": [],
      "toc_visible": true,
      "include_colab_link": true
    }
  },
  "nbformat": 4,
  "nbformat_minor": 0
}